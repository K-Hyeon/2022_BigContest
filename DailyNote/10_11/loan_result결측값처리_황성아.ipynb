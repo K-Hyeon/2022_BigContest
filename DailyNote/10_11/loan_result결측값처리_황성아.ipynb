{
 "cells": [
  {
   "cell_type": "code",
   "execution_count": 1,
   "id": "9295494c",
   "metadata": {},
   "outputs": [],
   "source": [
    "import numpy as np\n",
    "import pandas as pd \n",
    "import matplotlib.pyplot as plt\n",
    "%matplotlib inline\n",
    "import seaborn as sns"
   ]
  },
  {
   "cell_type": "code",
   "execution_count": null,
   "id": "95ee0844",
   "metadata": {},
   "outputs": [],
   "source": [
    "# 데이터 불러오기\n",
    "merge = pd.read_csv('/Users/sungahwang/Desktop/BigContest_data/merge.csv')\n",
    "merge"
   ]
  },
  {
   "cell_type": "code",
   "execution_count": null,
   "id": "0f87bb94",
   "metadata": {},
   "outputs": [],
   "source": [
    "merge.groupby(['cluster2'])['loan_limit'].mean()"
   ]
  },
  {
   "cell_type": "code",
   "execution_count": null,
   "id": "d38c92c4",
   "metadata": {},
   "outputs": [],
   "source": [
    "merge.loc[(merge['loan_limit'].isnull()) & (merge['cluster2'] == 0),'loan_limit'] = 2.144275e+07\n",
    "merge.loc[(merge['loan_limit'].isnull()) & (merge['cluster2'] == 1),'loan_limit'] = 2.414862e+07\n",
    "merge.loc[(merge['loan_limit'].isnull()) & (merge['cluster2'] == 2),'loan_limit'] = 2.094330e+07\n",
    "merge.loc[(merge['loan_limit'].isnull()) & (merge['cluster2'] == 3),'loan_limit'] = 2.486901e+07\n",
    "merge.loc[(merge['loan_limit'].isnull()) & (merge['cluster2'] == 4),'loan_limit'] = 1.699371e+07\n",
    "merge.loc[(merge['loan_limit'].isnull()) & (merge['cluster2'] == 5),'loan_limit'] = 3.181512e+07"
   ]
  },
  {
   "cell_type": "code",
   "execution_count": null,
   "id": "3dcb2d1e",
   "metadata": {},
   "outputs": [],
   "source": [
    "merge.groupby(['cluster2'])['loan_rate'].mean()"
   ]
  },
  {
   "cell_type": "code",
   "execution_count": null,
   "id": "e3721763",
   "metadata": {},
   "outputs": [],
   "source": [
    "merge.loc[(merge['loan_rate'].isnull()) & (merge['cluster2'] == 0),'loan_rate'] = 13.322165\n",
    "merge.loc[(merge['loan_rate'].isnull()) & (merge['cluster2'] == 1),'loan_rate'] = 12.640666\n",
    "merge.loc[(merge['loan_rate'].isnull()) & (merge['cluster2'] == 2),'loan_rate'] = 11.389832\n",
    "merge.loc[(merge['loan_rate'].isnull()) & (merge['cluster2'] == 3),'loan_rate'] = 11.941096\n",
    "merge.loc[(merge['loan_rate'].isnull()) & (merge['cluster2'] == 4),'loan_rate'] = 13.028280\n",
    "merge.loc[(merge['loan_rate'].isnull()) & (merge['cluster2'] == 5),'loan_rate'] = 16.070806"
   ]
  },
  {
   "cell_type": "code",
   "execution_count": null,
   "id": "f4a8187e",
   "metadata": {},
   "outputs": [],
   "source": [
    "merge.isnull().sum()"
   ]
  },
  {
   "cell_type": "code",
   "execution_count": null,
   "id": "39f14b43",
   "metadata": {},
   "outputs": [],
   "source": [
    "respec_final_clust.to_csv(\"merge_clust.csv\", index = False)"
   ]
  }
 ],
 "metadata": {
  "kernelspec": {
   "display_name": "Python 3 (ipykernel)",
   "language": "python",
   "name": "python3"
  },
  "language_info": {
   "codemirror_mode": {
    "name": "ipython",
    "version": 3
   },
   "file_extension": ".py",
   "mimetype": "text/x-python",
   "name": "python",
   "nbconvert_exporter": "python",
   "pygments_lexer": "ipython3",
   "version": "3.9.12"
  }
 },
 "nbformat": 4,
 "nbformat_minor": 5
}
